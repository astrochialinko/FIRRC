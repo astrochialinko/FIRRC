{
 "cells": [
  {
   "cell_type": "code",
   "execution_count": 1,
   "id": "6e03ab49",
   "metadata": {},
   "outputs": [],
   "source": [
    "import os\n",
    "import numpy as np\n",
    "import pandas as pd\n",
    "import astropy.io.fits as pyfits\n",
    "from astropy.wcs import WCS\n",
    "from astropy.coordinates import SkyCoord\n",
    "from photutils import aperture_photometry\n",
    "from photutils import EllipticalAperture\n",
    "\n",
    "import path"
   ]
  },
  {
   "cell_type": "code",
   "execution_count": 4,
   "id": "051b8f1e",
   "metadata": {},
   "outputs": [],
   "source": [
    "# Constant\n",
    "# path\n",
    "PATH_CATALOG_CROSSMATCH = path.catalog_crossmatch\n",
    "PATH_DATA_VLA           = path.image_vla\n",
    "PATH_TABLE              = path.table\n",
    "PATH_FIGURE             = path.figure\n",
    "\n",
    "\n",
    "IMG_FILENAME_LIST       =   [\n",
    "    '%scosmos_vla_1d4GHz_XS_2021image'%(PATH_DATA_VLA),\n",
    "    '%scosmos_vla_1d4GHz_XS_2021rms'%(PATH_DATA_VLA)\n",
    "                            ]"
   ]
  },
  {
   "cell_type": "code",
   "execution_count": 6,
   "id": "f62c44b7",
   "metadata": {},
   "outputs": [],
   "source": [
    "for fn_img in IMG_FILENAME_LIST:\n",
    "    \n",
    "    img      = pyfits.getdata(fn_img+ '.fits')\n",
    "    img_hd   = pyfits.getheader(fn_img+ '.fits')\n",
    "    \n",
    "    fn_img_new = fn_img + '_uJy.fits'\n",
    "    img_new = img*1e6\n",
    "    pyfits.writeto(fn_img_new, img_new, img_hd, overwrite=True)"
   ]
  },
  {
   "cell_type": "code",
   "execution_count": null,
   "id": "e5615c70",
   "metadata": {},
   "outputs": [],
   "source": []
  }
 ],
 "metadata": {
  "kernelspec": {
   "display_name": "Python 3",
   "language": "python",
   "name": "python3"
  },
  "language_info": {
   "codemirror_mode": {
    "name": "ipython",
    "version": 3
   },
   "file_extension": ".py",
   "mimetype": "text/x-python",
   "name": "python",
   "nbconvert_exporter": "python",
   "pygments_lexer": "ipython3",
   "version": "3.7.9"
  }
 },
 "nbformat": 4,
 "nbformat_minor": 5
}
